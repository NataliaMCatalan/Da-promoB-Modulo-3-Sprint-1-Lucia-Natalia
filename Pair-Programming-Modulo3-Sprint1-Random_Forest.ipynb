{
  "nbformat": 4,
  "nbformat_minor": 0,
  "metadata": {
    "colab": {
      "provenance": [],
      "authorship_tag": "ABX9TyPL6CN5Q+RPKOhAnxD45PHb",
      "include_colab_link": true
    },
    "kernelspec": {
      "name": "python3",
      "display_name": "Python 3"
    },
    "language_info": {
      "name": "python"
    }
  },
  "cells": [
    {
      "cell_type": "markdown",
      "metadata": {
        "id": "view-in-github",
        "colab_type": "text"
      },
      "source": [
        "<a href=\"https://colab.research.google.com/github/NataliaMCatalan/Da-promoB-Modulo-3-Sprint-1-Lucia-Natalia/blob/main/Pair-Programming-Modulo3-Sprint1-Random_Forest.ipynb\" target=\"_parent\"><img src=\"https://colab.research.google.com/assets/colab-badge.svg\" alt=\"Open In Colab\"/></a>"
      ]
    },
    {
      "cell_type": "code",
      "execution_count": null,
      "metadata": {
        "id": "q9bthjo_z5O_"
      },
      "outputs": [],
      "source": []
    },
    {
      "cell_type": "markdown",
      "source": [
        "Ajustar el modelo a un Random Forest\n",
        "\n",
        "Extraer las métricas\n",
        "\n",
        "Debatid entre vosotras que modelo es mejor y por qué (basándose en las métricas)"
      ],
      "metadata": {
        "id": "K3uLd-II0F4D"
      }
    }
  ]
}